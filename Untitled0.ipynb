{
  "cells": [
    {
      "cell_type": "markdown",
      "metadata": {
        "id": "view-in-github",
        "colab_type": "text"
      },
      "source": [
        "<a href=\"https://colab.research.google.com/github/hallelx2/team-coherent/blob/main/Untitled0.ipynb\" target=\"_parent\"><img src=\"https://colab.research.google.com/assets/colab-badge.svg\" alt=\"Open In Colab\"/></a>"
      ]
    },
    {
      "cell_type": "code",
      "execution_count": null,
      "metadata": {
        "id": "Tg_XLOQngMDz"
      },
      "outputs": [],
      "source": [
        "pip install cohere"
      ]
    },
    {
      "cell_type": "code",
      "execution_count": 65,
      "metadata": {
        "id": "vixWjYuikO_1"
      },
      "outputs": [],
      "source": [
        "import cohere\n",
        "from cohere.responses.classify import Example\n",
        "co = cohere.Client('aYH3xW1ZGKbvJDVr171DH9dt7CX93iLg3Mp94zyC') # This is your trial API key\n",
        "def classify_emotion(post):\n",
        "    response = co.classify(\n",
        "    model='embed-multilingual-v2.0',\n",
        "    inputs=[post], \n",
        "    examples=[Example(\"i feel like thats petty so i convince myself that i dont give a shit\", \"anger\"), Example(\"i really have much of a clue how my ex actually feels or felt about anything really except that he hated it when i didnt screw the lids back on jars in the kitchen\", \"anger\"), Example(\"i don t know this shit happens but every time i find out about yet another secret makeshift graveyard full of women s bones i feel that enraged impotence just like it was the first time\", \"anger\"), Example(\"i do not feel outraged by the change in name changing tanjore to thanjavur and mysore to mysuru makes more sense but since the previous cities were named by the very people who made them what they are today from mere villages to major power centres it s not a crime to retain those names\", \"anger\"), Example(\"i feel rude taking pictures of them\", \"anger\"), Example(\"i feel complimented or insulted\", \"anger\"), Example(\"i feel grumpy i am short with my wife or children\", \"anger\"), Example(\"i got a feeling that it was rushed to\", \"anger\"), Example(\"i feel tortured being away from my baby\", \"anger\"), Example(\"im feeling kind of petty and selfish\", \"anger\"), Example(\"i can not help but feel distraught about it\", \"fear\"), Example(\"im trying to wein off them with doctors guidance of course but if i miss a day i feel agitated about everything\", \"fear\"), Example(\"i had struggled through a difficult pregnancy i was feeling apprehensive and excited at the same time about the soon to be newest member of our family\", \"fear\"), Example(\"i was feeling much more agitated than usual had difficulties sleeping and constantly required my parents presence\", \"fear\"), Example(\"i feel alarmed her fingers gripping tight i see her pleading eyes so i start to disguise and say that everythings alright\", \"fear\"), Example(\"ive filled in some of the holes beneath my desk with foil as i feel distressed by the idea of losing one of my sewing machine feet or the bobbin case down there\", \"fear\"), Example(\"i have been feeling extraordinarily indecisive about which innocent crush fabrics i love the most\", \"fear\"), Example(\"im betraying my youth and class origins here but the working world still feels very strange to me\", \"fear\"), Example(\"i really forgot how it feels to laugh sincerely and he is the one who make my sincere laughter come back\", \"joy\"), Example(\"i viewed back the new year card that you presented me i can feel your sincere\", \"joy\"), Example(\"i have stayed at heritage christian because of the fulfillment that i feel in doing christ s work in action by being the hands the eyes the legs and the voice of supporting the individuals that i have been blessed to know and support\", \"joy\"), Example(\"i was looking at her and leaning a bit forward feeling really keen on to her\", \"joy\"), Example(\"i expected to feel more but nope i dont and thats a pleasant surprise\", \"joy\"), Example(\"im feeling a little better and with more christmas spirit i thought that by this date id had all my christmas decorations up but im not finish even with the lights\", \"joy\"), Example(\"i feel the cool water on my skin and the sun hugging me in warm comfort\", \"joy\"), Example(\"i am feeling all nostalgic i went on pinterest and found some great looking recipes for tomatoes and had to share a href http media cache ec\", \"love\"), Example(\"i feel like im supporting a community that i love with each purchase\", \"love\"), Example(\"i feel gracious what about you\", \"love\"), Example(\"i feel your delicate fingers\", \"love\"), Example(\"i get really frustrated whenever i talk with them i also feel compassionate toward them because they believe so passionately in things that are just dead wrong and frankly dont make sense\", \"love\"), Example(\"i don t need to drop feelings like a hot potato or slam the door shut on them\", \"love\"), Example(\"i worked as an editor and part of my job was to reject manuscripts i hated it because in those cover letters i could feel the writer s anticipation and longing\", \"love\"), Example(\"i feel sympathetic to the dalai lama\", \"love\"), Example(\"im feeling a bit needy i keep thinking i would appreciate any attention but of course that is not true\", \"sadness\"), Example(\"i feel discouraged and realize face palm that i need to look at things with a different perspective to be grateful about anything i can find\", \"sadness\"), Example(\"ill just cut amp paste it next time i feel the urge to type something as whiney as that\", \"sadness\"), Example(\"i got a sore throat then a runny nose then a full blown congested head cold which fell on the bank holiday tuesday and has left me feeling low and blue and bleurgh since then\", \"sadness\"), Example(\"im dealing with issues that have me feeling kind of depressed and it stormed rained all afternoon not helping things\", \"sadness\"), Example(\"i am talking purely about feeling here but i just didnt feel that emotional when the boy was killed\", \"sadness\"), Example(\"i do love the idea of having slave brothers but not at expense that i feel ignored lonely and frustrated and so depressed\", \"sadness\"), Example(\"i feel terrible about it though because i know how much courage it takes to ask\", \"sadness\"), Example(\"i like the domestic scene salty sweet combos recipe reviews the smell of rosemary babies the feeling of having exercised hand clapping rhymes books lost teacups and laundry that has been washed dried folded and put away\", \"sadness\"), Example(\"i just started taking mine yesterday and i feel kinda funny\", \"surprise\"), Example(\"i didnt feel like explaining to her that im genuinely curious and want to learn and understand and at least have some idea of what people are saying to me\", \"surprise\"), Example(\"i left gastro feeling impressed\", \"surprise\"), Example(\"i really did not feel so impressed with houston when i came here last time\", \"surprise\"), Example(\"i feel amazed when i saw the final result even thos without fishes inside\", \"surprise\"), Example(\"i told my colleagues in the qa team that after knowing almost everything in the floor back when i was an agent now i feel like im a kid curious of almost everything\", \"surprise\"), Example(\"i think it is the worst feeling it gives me the shivers and just thinking about it makes my teeth feel strange\", \"surprise\")])\n",
        "    return response.classifications[0].prediction"
      ]
    },
    {
      "cell_type": "code",
      "source": [
        "def write_post(feeling):\n",
        "  response = co.generate(\n",
        "  model='command-xlarge-20221108',\n",
        "  prompt=f'Create a reply in passive voice and third person to the {release} on basis of the {emotion}',\n",
        "  max_tokens=300,\n",
        "  temperature=0.9,\n",
        "  k=0,\n",
        "  p=0.75,\n",
        "  frequency_penalty=0,\n",
        "  presence_penalty=0,\n",
        "  stop_sequences=[],\n",
        "  return_likelihoods='NONE')\n",
        "  return(response.generations[0].text)"
      ],
      "metadata": {
        "id": "QWfW6O5b36tR"
      },
      "execution_count": 79,
      "outputs": []
    }
  ],
  "metadata": {
    "colab": {
      "provenance": [],
      "include_colab_link": true
    },
    "kernelspec": {
      "display_name": "Python 3",
      "name": "python3"
    },
    "language_info": {
      "name": "python"
    }
  },
  "nbformat": 4,
  "nbformat_minor": 0
}